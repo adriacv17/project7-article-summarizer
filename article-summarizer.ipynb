{
 "cells": [
  {
   "cell_type": "markdown",
   "metadata": {},
   "source": [
    "# Web Mining and Applied NLP (44-620)\n",
    "\n",
    "## Final Project: Article Summarizer\n",
    "\n",
    "### Student Name: Adrian Vega\n",
    "\n",
    "Perform the tasks described in the Markdown cells below.  When you have completed the assignment make sure your code cells have all been run (and have output beneath them) and ensure you have committed and pushed ALL of your changes to your assignment repository.\n",
    "\n",
    "You should bring in code from previous assignments to help you answer the questions below.\n",
    "\n",
    "Every question that requires you to write code will have a code cell underneath it; you may either write your entire solution in that cell or write it in a python file (`.py`), then import and run the appropriate code to answer the question."
   ]
  },
  {
   "cell_type": "code",
   "execution_count": 14,
   "metadata": {},
   "outputs": [
    {
     "name": "stdout",
     "output_type": "stream",
     "text": [
      "Package                   Version\n",
      "------------------------- --------------\n",
      "annotated-types           0.7.0\n",
      "anyio                     4.6.2.post1\n",
      "argon2-cffi               23.1.0\n",
      "argon2-cffi-bindings      21.2.0\n",
      "arrow                     1.3.0\n",
      "asttokens                 3.0.0\n",
      "async-lru                 2.0.4\n",
      "attrs                     24.2.0\n",
      "babel                     2.16.0\n",
      "beautifulsoup4            4.12.3\n",
      "bleach                    6.2.0\n",
      "blis                      1.0.1\n",
      "catalogue                 2.0.10\n",
      "certifi                   2024.8.30\n",
      "cffi                      1.17.1\n",
      "charset-normalizer        3.4.0\n",
      "click                     8.1.7\n",
      "cloudpathlib              0.20.0\n",
      "colorama                  0.4.6\n",
      "comm                      0.2.2\n",
      "confection                0.1.5\n",
      "contourpy                 1.3.1\n",
      "cycler                    0.12.1\n",
      "cymem                     2.0.10\n",
      "debugpy                   1.8.9\n",
      "decorator                 5.1.1\n",
      "defusedxml                0.7.1\n",
      "en_core_web_sm            3.8.0\n",
      "executing                 2.1.0\n",
      "fastjsonschema            2.21.1\n",
      "fonttools                 4.55.1\n",
      "fqdn                      1.5.1\n",
      "h11                       0.14.0\n",
      "html5lib                  1.1\n",
      "httpcore                  1.0.7\n",
      "httpx                     0.28.0\n",
      "idna                      3.10\n",
      "ipykernel                 6.29.5\n",
      "ipython                   8.30.0\n",
      "isoduration               20.11.0\n",
      "jedi                      0.19.2\n",
      "Jinja2                    3.1.4\n",
      "joblib                    1.4.2\n",
      "json5                     0.10.0\n",
      "jsonpointer               3.0.0\n",
      "jsonschema                4.23.0\n",
      "jsonschema-specifications 2024.10.1\n",
      "jupyter_client            8.6.3\n",
      "jupyter_core              5.7.2\n",
      "jupyter-events            0.10.0\n",
      "jupyter-lsp               2.2.5\n",
      "jupyter_server            2.14.2\n",
      "jupyter_server_terminals  0.5.3\n",
      "jupyterlab                4.3.1\n",
      "jupyterlab_pygments       0.3.0\n",
      "jupyterlab_server         2.27.3\n",
      "kiwisolver                1.4.7\n",
      "langcodes                 3.5.0\n",
      "language_data             1.3.0\n",
      "marisa-trie               1.2.1\n",
      "markdown-it-py            3.0.0\n",
      "MarkupSafe                3.0.2\n",
      "matplotlib                3.9.3\n",
      "matplotlib-inline         0.1.7\n",
      "mdurl                     0.1.2\n",
      "mistune                   3.0.2\n",
      "murmurhash                1.0.11\n",
      "nbclient                  0.10.1\n",
      "nbconvert                 7.16.4\n",
      "nbformat                  5.10.4\n",
      "nest-asyncio              1.6.0\n",
      "nltk                      3.9.1\n",
      "notebook_shim             0.2.4\n",
      "numpy                     2.0.2\n",
      "overrides                 7.7.0\n",
      "packaging                 24.2\n",
      "pandocfilters             1.5.1\n",
      "parso                     0.8.4\n",
      "pillow                    11.0.0\n",
      "pip                       24.3.1\n",
      "platformdirs              4.3.6\n",
      "preshed                   3.0.9\n",
      "prometheus_client         0.21.0\n",
      "prompt_toolkit            3.0.48\n",
      "psutil                    6.1.0\n",
      "pure_eval                 0.2.3\n",
      "pycparser                 2.22\n",
      "pydantic                  2.10.2\n",
      "pydantic_core             2.27.1\n",
      "Pygments                  2.18.0\n",
      "pyparsing                 3.2.0\n",
      "python-dateutil           2.9.0.post0\n",
      "python-json-logger        2.0.7\n",
      "pywin32                   308\n",
      "pywinpty                  2.0.14\n",
      "PyYAML                    6.0.2\n",
      "pyzmq                     26.2.0\n",
      "referencing               0.35.1\n",
      "regex                     2024.11.6\n",
      "requests                  2.32.3\n",
      "rfc3339-validator         0.1.4\n",
      "rfc3986-validator         0.1.1\n",
      "rich                      13.9.4\n",
      "rpds-py                   0.22.0\n",
      "Send2Trash                1.8.3\n",
      "setuptools                75.6.0\n",
      "shellingham               1.5.4\n",
      "six                       1.16.0\n",
      "smart-open                7.0.5\n",
      "sniffio                   1.3.1\n",
      "soupsieve                 2.6\n",
      "spacy                     3.8.2\n",
      "spacy-legacy              3.0.12\n",
      "spacy-loggers             1.0.5\n",
      "spacytextblob             5.0.0\n",
      "srsly                     2.4.8\n",
      "stack-data                0.6.3\n",
      "terminado                 0.18.1\n",
      "textblob                  0.18.0.post0\n",
      "thinc                     8.3.2\n",
      "tinycss2                  1.4.0\n",
      "tornado                   6.4.2\n",
      "tqdm                      4.67.1\n",
      "traitlets                 5.14.3\n",
      "typer                     0.14.0\n",
      "types-python-dateutil     2.9.0.20241003\n",
      "typing_extensions         4.12.2\n",
      "uri-template              1.3.0\n",
      "urllib3                   2.2.3\n",
      "wasabi                    1.1.3\n",
      "wcwidth                   0.2.13\n",
      "weasel                    0.4.1\n",
      "webcolors                 24.11.1\n",
      "webencodings              0.5.1\n",
      "websocket-client          1.8.0\n",
      "wrapt                     1.17.0\n",
      "All prereqs installed.\n"
     ]
    }
   ],
   "source": [
    "# Create and activate a Python virtual environment. \n",
    "# Before starting the project, try all these imports FIRST\n",
    "# Address any errors you get running this code cell \n",
    "# by installing the necessary packages into your active Python environment.\n",
    "# Try to resolve issues using your materials and the web.\n",
    "# If that doesn't work, ask for help in the discussion forums.\n",
    "# You can't complete the exercises until you import these - start early! \n",
    "# We also import pickle and Counter (included in the Python Standard Library).\n",
    "\n",
    "from collections import Counter\n",
    "import pickle\n",
    "import requests\n",
    "import spacy\n",
    "from bs4 import BeautifulSoup\n",
    "import json\n",
    "import html5lib\n",
    "import matplotlib.pyplot as plt\n",
    "from spacytextblob.spacytextblob import SpacyTextBlob\n",
    "\n",
    "!pip list\n",
    "\n",
    "print('All prereqs installed.')"
   ]
  },
  {
   "cell_type": "markdown",
   "metadata": {},
   "source": [
    "## Question 1\n",
    "Find on the internet an article or blog post about a topic that interests you and you are able to get the text for using the technologies we have applied in the course.  Get the html for the article and store it in a file (which you must submit with your project)"
   ]
  },
  {
   "cell_type": "code",
   "execution_count": 2,
   "metadata": {},
   "outputs": [
    {
     "name": "stdout",
     "output_type": "stream",
     "text": [
      "Article HTML save to endometriosis.pkl\n"
     ]
    }
   ],
   "source": [
    "# Import libraries\n",
    "\n",
    "import requests # Library to make HTTP requests for websites\n",
    "import pickle # Library used to save and load Python objects such as strings and dictionaries by serializing and deserializing\n",
    "\n",
    "# Request and Store Response\n",
    "endo_page = requests.get('https://medicine.yale.edu/news/yale-medicine-magazine/article/endometriosis/')\n",
    "endo_html = endo_page.text\n",
    "\n",
    "# Use Pickle library to serialize the hackaday_html string and store in file hackaday.pkl\n",
    "# The serialized file can later be retrieved and used without requesting from url\n",
    "with open('endometriosis.pkl', 'wb') as file:\n",
    "    pickle.dump(endo_page.text,file)\n",
    "print('Article HTML save to endometriosis.pkl')\n"
   ]
  },
  {
   "cell_type": "markdown",
   "metadata": {},
   "source": [
    "## Question 2\n",
    "Read in your article's html source from the file you created in question 1 and do sentiment analysis on the article/post's text (use `.get_text()`).  Print the polarity score with an appropriate label.  Additionally print the number of sentences in the original article (with an appropriate label)"
   ]
  },
  {
   "cell_type": "markdown",
   "metadata": {},
   "source": [
    "### Read in Article HTML Source"
   ]
  },
  {
   "cell_type": "code",
   "execution_count": 15,
   "metadata": {},
   "outputs": [
    {
     "name": "stdout",
     "output_type": "stream",
     "text": [
      "Endometriosis\n",
      "Yale Medicine Magazine\n",
      ",\n",
      "Spring 2024 (Issue 172) Women's Health Special Report\n",
      "by\n",
      "Isabella Backman\n",
      "Contents\n",
      "Features\n",
      "From hysteria to empowerment\n",
      "Heart disease in women\n",
      "Breast cancer research\n",
      "Endometriosis\n",
      "Why pregnancies fail\n",
      "The power of collaboration\n",
      "Digital pathology\n",
      "Yale researchers hailed as STAT 'Wunderkinds'\n",
      "News\n",
      "Letters\n",
      "From the journals\n",
      "Mazure chairs new White House initiative\n",
      "People\n",
      "Serendipity in action\n",
      "On a mission\n",
      "Dialogue\n",
      "Women's health: challenges and opportunities\n",
      "The evolution of psychiatry\n",
      "Changing the trajectory of a painful systemic disease.\n",
      "Endometriosis: more than chronic pelvic pain\n",
      "Researchers estimate that over 10% of all women of childbearing age live with this condition.\n",
      "Photo\n",
      "by\n",
      "Codex Anatomicus\n",
      "Even though endometriosis—a condition in which tissue similar to that lining the uterus grows outside the uterus—is among the most common gynecological conditions, it remains one of the most misunderstood and misdiagnosed.\n",
      "Time and again, as far back as the age of Hippocrates, physicians have failed to recognize endometriosis as a real disease with underlying physical causes and often blamed women for the debilitating symptoms they experienced.\n",
      "“The now-discredited mystery disorder, presumed for centuries to be psychological in origin, was most likely endometriosis in the majority of cases,” wrote Ceana Nezhat, MD, and his colleagues in a 2012 article in\n",
      "Fertility and Sterility\n",
      ". “If so, then this would constitute one of the most colossal mass misdiagnoses in human history, one that over the centuries has subjected women to murder, madhouses, and lives of unremitting physical, social, and psychological pain. The number of lives that may have been affected by such centuries-long misdiagnoses is staggering to consider, likely involving figures in the multiple millions.”\n",
      "While one might assume that the ancient perspective on endometriosis and chronic pelvic pain is a relic of the past, that’s not necessarily true. Researchers estimate that over 10% of all women of childbearing age live with endometriosis—over 190 million adults worldwide. While initial complaints often include painful periods and/or infertility, in reality the disease has a vast number of other symptoms, many of which extend beyond the pelvis to other regions of the body. For some women, the pain correlates with their menstrual cycle; for others, symptoms are constant. And too many patients with endometriosis suffer severe, debilitating symptoms that drastically reduce their quality of life.\n",
      "Unfortunately, the dismissive and demeaning attitudes of some physicians toward endometriosis is not just something that used to happen; it remains prevalent today. On average, it takes women 10 years to receive an accurate diagnosis of endometriosis, and many see at least four or five doctors before their pain is taken seriously.\n",
      "Now, emerging research has demonstrated that endometriosis is a chronic, systemic disease with multiple manifestations affecting the entire body. At Yale School of Medicine (YSM), Hugh Taylor, MD, Anita O’Keeffe Young Professor of Obstetrics, Gynecology, and Reproductive Sciences and professor of molecular, cellular, and developmental biology, and department chair, specializes in identifying the dozens of symptoms of endometriosis, explaining why these symptoms occur, and advocating for recognition of the severe pain caused by the disease.\n",
      "“Menstrual cramps are the only pain that we as human beings accept as normal,” says Taylor. “Any other pain would prompt one to seek medical attention, but here we have pain that we’ve normalized. Thus, the pain of endometriosis is too often underappreciated and underrecognized by physicians, other health care providers, and even by patients and their families.”\n",
      "Misplaced endometrial cells\n",
      "Researchers currently think that most cases of endometriosis result from what they call “retrograde menstruation.” This condition occurs when cells from the uterus and other menstrual debris flow backward out of the fallopian tubes and settle in the abdomen, where they implant and grow.\n",
      "The pain of the disease may be caused by several different mechanisms. The cells may implant around nerves, irritating or compressing them. The endometrial cells may also produce inflammatory molecules that irritate and inflame the surrounding tissue. Over the long term, this inflammation can lead to scarring and adhesions, which create further pain. “Endometriosis can eventually lead to the pulling and twisting of tissues,” says Taylor. “This distorted anatomy can also cause pain.”\n",
      "Sometimes, physicians even find endometrial cells outside the abdominal cavity, lodged within the lungs or even in the brain, for example. Taylor’s lab was the first to describe that some cases of endometriosis may also originate from stem cells. Usually, stem cells are mobilized to repair areas of inflammation or injury in the body. His group has found, however, that they also deliver certain molecules that promote the growth of endometriosis lesions. “The lesions of endometriosis may be perceived by the body like an injury,” says Taylor. “The stem cells are drawn there to repair the body, but in reality, they’re helping to promote the endometriosis.”\n",
      "New research is revealing that endometriosis is not just a gynecologic disease, but rather a widespread inflammatory disorder. Taylor’s lab has found that the disorder communicates with the body in numerous ways. The disease, for example, secretes small RNA molecules called microRNAs that travel to organs beyond the pelvis, where they can alter gene expression. Endometriosis can also activate macrophages and other immune cells that induce whole-body inflammation. Based on these insights, Taylor’s team is currently exploring new anti-inflammatory therapies, including repurposing drugs used for other inflammatory conditions.\n",
      "Genetics: complex and poorly understood\n",
      "Studies on twins show that genetic factors account for approximately 50% of a woman’s risk of developing endometriosis. But the disease itself can’t be attributed to a single gene or two. “There’s certainly a familial tendency toward endometriosis. But it’s not like breast cancer where you can find a gene such as\n",
      "BRCA\n",
      "—which causes breast cancer in a large percentage of women living with it—and identify who is going to develop it,” says Taylor. “We believe endometriosis is polygenic with multiple genes that all have a net contribution.” In future studies, Taylor hopes to better understand the multitude of genes that interact to cause endometriosis so that his team can identify targets for potential therapy, “but we’re not there yet,” he says.\n",
      "Furthermore, studying the genetics of endometriosis may also help researchers better understand its association with comorbid conditions. For example, a January 2023\n",
      "JAMA Network Open\n",
      "publication has identified gene aberrations in women with endometriosis that overlap with psychiatric conditions. In other words, genetic commonalities may partially explain why endometriosis patients also have higher incidences of depression, anxiety, and eating disorders. “The epidemiological associations between endometriosis and these psychiatric traits are not only due to experiencing chronic pain, but also underlying biological and genetic mechanisms,” says Dora Koller, PhD, a postdoctoral fellow at YSM and first author of the study.\n",
      "Symptoms extend far beyond the pelvis\n",
      "Endometriosis typically begins to manifest as extremely painful periods. This pain, however, may extend to the intervals between periods and occur in places outside the uterus. Symptoms may include pelvic pain, back pain, bladder pain and frequent urination, painful bowel movements and other gastrointestinal issues, and fatigue. But doctors often fail to consider endometriosis when women seek help for their specific range of symptoms. For instance, a urologist or gastroenterologist may not immediately associate their patients’ bladder or digestive symptoms with endometriosis. “It’s like the blind men with the elephant analogy,” says Taylor. “Everyone looks at their own aspect of the disease rather than the big picture.”\n",
      "Endometriosis is also linked to depression and anxiety. Unfortunately, many doctors blame the pain women experience on these mental symptoms. However, when Taylor’s laboratory team induced endometriosis in mice, the animals shortly developed depression and anxiety. “Depression and anxiety are directly caused by the disease,” he emphasizes.\n",
      "In some women, the first sign of endometriosis is difficulty getting pregnant; they experience no pain, but infertility brings them to a doctor who ultimately diagnoses endometriosis as the reason they’ve been unable to conceive or carry a child. In other cases, women who had been previously dismissed when they go to the doctor with painful symptoms finally receive a diagnosis of endometriosis when they struggle with infertility down the road. “Many times, women only get taken seriously when they are unable to get pregnant,” says Koller.\n",
      "New research is now revealing that endometriosis causes more health challenges than initially thought. Studies show that having endometriosis is linked to a greater risk of heart disease later in life. Other research has found that the disease can cause changes in metabolism, including difficulty maintaining a healthy weight. While these associations were already known, women themselves were once again often blamed, rather than the disease.\n",
      "“Physicians used to say that being thin was a risk factor for developing endometriosis,” says Taylor. But his lab was the first to prove by using mouse models that the disease caused mice to be thinner, not the other way around. Furthermore, doctors used to attribute heart disease to the hormonal medications that endometriosis patients take and the surgeries they often undergo. Once again, Taylor’s lab disproved this assumption. “We induce endometriosis in mice, and they develop heart disease,” he says. “It’s cause and effect.”\n",
      "Women wait years for a diagnosis\n",
      "Unfortunately, women spend years seeing doctor after doctor for their symptoms, and often, says Taylor, they are dismissed or initially misdiagnosed. This delay is due, in part, to the old clinical standard for diagnosis being laparoscopic surgery. “Although that is still the definitive way to identify it, we can have a very good idea if someone has endometriosis just by her symptoms alone and start some easier treatments to alleviate the pain,” says Taylor. But he also blames the delay on sexist attitudes that are still common among physicians. “I often hear demeaning, horrible comments from doctors who believe that women with endometriosis are just anxious and complain too much, or are overly sensitive to pain.”\n",
      "This lack of early intervention has tragic consequences, especially because the disease often first strikes when women are in school or in the early stages of their career. “The debilitating pain can change their life trajectory,” says Taylor. “At times, it keeps them from performing well or forces them to miss work or school. It holds them back, and you just don’t get a ‘do-over’ on your early education.”\n",
      "Treatments: hormones and surgery\n",
      "The majority of available treatments for endometriosis today are hormonal therapies. The standard first-line treatment is a class of synthetic hormones called progestins, typically in the form of birth control pills. This treatment, however, fails to relieve pain in a third of patients, while others will experience adverse side effects, including weight gain, mood changes, nausea, and irregular bleeding. In total, hormonal therapy is not optimal in about half of patients.\n",
      "When medications fail, women may also choose to undergo laparoscopic surgery. “The only way to obtain a definitive diagnosis is through surgery, which is unheard of for such a common disease,” says Koller. This procedure involves removing the endometrial lesions, and it can be very effective in reducing pain. Surgical excision, however, is not a cure—it does not prevent reoccurrence of the lesions, among other downsides. “The decision to perform surgery often means that one has waited until they feel bad enough that they want to undergo a surgical procedure,” says Taylor. “It’s not a good option for early recognition and treatment of the disease.”\n",
      "Another treatment is a GnRH agonist called leuprolide acetate (Lupron®). The injectable drug works by suppressing estrogen levels to zero and putting a patient in temporary menopause. Once administered, it doesn’t take effect for several weeks. “Lupron is an extreme therapy,” says Taylor. Physicians typically offer their patients supplemental hormones to mitigate the side effects, including hot flashes and fatigue. But unlike taking a pill that can be discontinued immediately, if a patient decides the side effects aren’t worth the benefits, she must wait months for the drug to wear off.\n",
      "Over the past few years, researchers have developed an alternative to Lupron called GnRH antagonists. These oral therapies target the same receptor and have numerous benefits. They start lowering estrogen levels in the body in as little as 24 hours, and the doses can be titrated. This allows doctors to prescribe smaller doses that avoid full-blown menopause. “These have been a game changer because they are so much gentler, kinder, easier to use, and just as effective as the old-fashioned medications,” says Taylor, who was the leader of the clinical trial published in\n",
      "The New England Journal of Medicine\n",
      "that led to the approval of elagolix (Orilissa®), the first GnRH antagonist in the United States. These drugs have become the most commonly used second-line therapy when birth control pills fail.\n",
      "The future of endometriosis care\n",
      "Taylor and his team are working hard in the lab to improve the diagnosis of endometriosis, including developing a diagnostic blood test that looks for molecular biomarkers of the disorder, such as microRNAs, as a way to prevent the need for surgery. “Our goal is to recognize this disease early enough that we don’t ever need to do surgery to diagnose it,” he says. “And if we recognize it early enough, before the scarring and adhesions form, we may never need surgical therapy.”\n",
      "As researchers continue to learn more about the molecular biology and pathophysiology of endometriosis, Taylor also hopes to see more treatment options beyond hormonal medications. Because research shows that inflammation plays a significant role in the disease, his team is interested in repurposing drugs currently used for such inflammatory conditions as Crohn’s disease and rheumatoid arthritis to see whether they also relieve the symptoms of endometriosis. Other key options include targeting the circulating microRNAs secreted by the disease by using specific microRNA inhibitors. Animal models are already showing promising results in both these areas of research.\n",
      "Exciting progress is already being made, but half the battle will be convincing the medical community and beyond to recognize endometriosis as the complex disease that it is. “The more we understand and embrace that complexity, the sooner we’re going to get to better therapies that treat the entire disease,” says Taylor. “That requires getting people to start taking women’s pain seriously, being unafraid to talk about menstrual cramps, and treating endometriosis sooner before it gets to a stage where a woman needs surgery.”\n",
      "Featured in this article\n",
      "Hugh Taylor, MD\n",
      "Anita O'Keeffe Young Professor of Obstetrics, Gynecology, and Reproductive Sciences and Professor of Molecular, Cellular, and Developmental Biology; Chair, Obstetrics, Gynecology & Reproductive Sciences; Chief , Obstetrics and Gynecology, Yale New Haven Hospital\n",
      "Previous Article\n",
      "Breast cancer research\n",
      "Next Article\n",
      "Why pregnancies fail\n"
     ]
    }
   ],
   "source": [
    "import pickle\n",
    "from bs4 import BeautifulSoup\n",
    "\n",
    "# Load the HTML content from the pickle file\n",
    "with open('endometriosis.pkl', 'rb') as file:\n",
    "    endo_html = pickle.load(file)\n",
    "\n",
    "# Use BeautifulSoup to parse the HTML\n",
    "parser = 'html.parser'\n",
    "soup = BeautifulSoup(endo_html, parser)\n",
    "\n",
    "article_text = soup.find('article')\n",
    "\n",
    "# Extract text only from the article\n",
    "if article_text:\n",
    "    text = article_text.get_text(separator=\"\\n\", strip=True)\n",
    "else:\n",
    "    text = soup.get_text(separator=\"\\n\", strip=True) \n",
    "\n",
    "print(text)\n"
   ]
  },
  {
   "cell_type": "markdown",
   "metadata": {},
   "source": [
    "### Print Polarity and Total Sentences"
   ]
  },
  {
   "cell_type": "code",
   "execution_count": 18,
   "metadata": {},
   "outputs": [
    {
     "name": "stdout",
     "output_type": "stream",
     "text": [
      "The polarity score of this article is 0.004!\n",
      "The total number of sentences is 114!\n"
     ]
    }
   ],
   "source": [
    "# Load the spaCy model\n",
    "nlp = spacy.load(\"en_core_web_sm\")\n",
    "\n",
    "# Add SpacyTextBlob to the pipeline\n",
    "nlp.add_pipe('spacytextblob')\n",
    "\n",
    "# Process the text using SpaCy and print polarity\n",
    "doc = nlp(text)\n",
    "polarity = doc._.blob.polarity\n",
    "print(f'The polarity score of this article is {polarity:.3f}!')\n",
    "\n",
    "sentences = len(list(doc.sents))\n",
    "print(f'The total number of sentences is {sentences}!')"
   ]
  },
  {
   "cell_type": "markdown",
   "metadata": {},
   "source": [
    "## Question 3\n",
    "Load the article text into a trained `spaCy` pipeline, and determine the 5 most frequent tokens (converted to lower case).  Print the common tokens with an appropriate label.  Additionally, print the tokens their frequencies (with appropriate labels)"
   ]
  },
  {
   "cell_type": "code",
   "execution_count": 20,
   "metadata": {},
   "outputs": [
    {
     "name": "stdout",
     "output_type": "stream",
     "text": [
      "Most frequent tokens and the frequency of each:\n",
      "Token: 'endometriosis', Count: 52\n",
      "Token: 'disease', Count: 27\n",
      "Token: 'pain', Count: 26\n",
      "Token: 'women', Count: 23\n",
      "Token: 'taylor', Count: 23\n"
     ]
    }
   ],
   "source": [
    "import spacy\n",
    "from spacytextblob.spacytextblob import SpacyTextBlob\n",
    "from collections import Counter\n",
    "\n",
    "# Load the spaCy model en_core_web_sm\n",
    "nlp = spacy.load('en_core_web_sm')\n",
    "\n",
    "# Process the article text(article_text contains soup.get_text()) using the spacy pipeline\n",
    "doc = nlp(text)\n",
    "\n",
    "# Filter out or remove stopwords, punctuation, and whitespace\n",
    "# Convert tokens to lowercase\n",
    "\n",
    "filtered_token = [token.text.lower() for token in doc if not token.is_stop and not token.is_punct and not token.is_space]\n",
    "\n",
    "# Get the frequency of each token and use .most_common function to return most common with argument of 5\n",
    "token_frequencies = Counter(filtered_token).most_common(5)\n",
    "\n",
    "# Print the common tokens with their frequencies\n",
    "print(\"Most frequent tokens and the frequency of each:\")\n",
    "for token, count in token_frequencies:\n",
    "    print(f\"Token: '{token}', Count: {count}\")"
   ]
  },
  {
   "cell_type": "markdown",
   "metadata": {},
   "source": [
    "## Question 4\n",
    "Load the article text into a trained `spaCy` pipeline, and determine the 5 most frequent lemmas (converted to lower case).  Print the common lemmas with an appropriate label.  Additionally, print the lemmas with their frequencies (with appropriate labels)."
   ]
  },
  {
   "cell_type": "code",
   "execution_count": 22,
   "metadata": {},
   "outputs": [
    {
     "name": "stdout",
     "output_type": "stream",
     "text": [
      "Most frequent lemmas and the frequency of each:\n",
      "Lemma: 'endometriosis', Count: 52\n",
      "Lemma: 'disease', Count: 27\n",
      "Lemma: 'pain', Count: 26\n",
      "Lemma: 'woman', Count: 24\n",
      "Lemma: 'taylor', Count: 23\n"
     ]
    }
   ],
   "source": [
    "import spacy\n",
    "from spacytextblob.spacytextblob import SpacyTextBlob\n",
    "from collections import Counter\n",
    "\n",
    "# Load the spaCy model en_core_web_sm\n",
    "nlp = spacy.load('en_core_web_sm')\n",
    "\n",
    "# Process the article text(article_text contains soup.get_text()) using the spacy pipeline\n",
    "doc = nlp(text)\n",
    "\n",
    "# Filter out punctuation, stopwords, and whitespace and get the lemmas form of each token\n",
    "filtered_lemmas = [token.lemma_.lower() for token in doc if not token.is_punct and not token.is_stop and not token.is_space]\n",
    "\n",
    "# Get the frequency of each lemma and return the 5 most common\n",
    "lem_frequency = Counter(filtered_lemmas).most_common(5)\n",
    "\n",
    "# Print the common lemmas with their frequencies\n",
    "print(\"Most frequent lemmas and the frequency of each:\")\n",
    "for lemma, count in lem_frequency:\n",
    "    print(f\"Lemma: '{lemma}', Count: {count}\")"
   ]
  },
  {
   "cell_type": "markdown",
   "metadata": {},
   "source": [
    "## Question 5\n",
    "Make a list containing the scores (using tokens) of every sentence in the article, and plot a histogram with appropriate titles and axis labels of the scores. From your histogram, what seems to be the most common range of scores (put the answer in a comment after your code)?"
   ]
  },
  {
   "cell_type": "code",
   "execution_count": null,
   "metadata": {},
   "outputs": [
    {
     "data": {
      "image/png": "[encoded data removed]",
      "text/plain": [
       "<Figure size 1000x600 with 1 Axes>"
      ]
     },
     "metadata": {},
     "output_type": "display_data"
    }
   ],
   "source": [
    "# Define the score_sentence_by_token method\n",
    "def score_sentence_by_token(sentence, interesting_token):\n",
    "    # Filter tokens and remove punctuation, stopwords, and spaces\n",
    "    filtered_tokens = [token.text.lower() for token in sentence if not token.is_punct and not token.is_stop and not token.is_space]\n",
    "    # Count the interesting tokens in the sentence\n",
    "    token_count = sum(1 for token in filtered_tokens if token in interesting_token)\n",
    "    # Return the score/ratio of interesting tokens to total words in sentence\n",
    "    token_score = token_count/len(filtered_tokens)\n",
    "    return token_score\n",
    "\n",
    "interesting_tokens = [token for token, x in token_frequencies]\n",
    "\n",
    "# Create an empty list to add scores of each sentence\n",
    "token_scores = []\n",
    "\n",
    "# Loop through each sentence in the article and calculate it's score then append\n",
    "for sentence in doc.sents:\n",
    "    token_score = score_sentence_by_token(sentence, interesting_tokens)\n",
    "    token_scores.append(token_score)\n",
    "\n",
    "# Plot the histogram of token scores\n",
    "plt.figure(figsize=(10, 6))\n",
    "plt.hist(token_scores, bins=10, edgecolor='black', color='skyblue', alpha =0.7)\n",
    "\n",
    "# Add titles and labels to the plot and add grid lines\n",
    "plt.title('Distribution of Interesting Token Scores', fontsize=25)\n",
    "plt.xlabel('Token Score', fontsize=14)\n",
    "plt.ylabel('Frequency', fontsize=14)\n",
    "plt.grid(axis='y', alpha = 0.9) \n",
    "\n",
    "# Show the plot\n",
    "plt.show()\n",
    "\n",
    "# The most common range of token scores is around 0.00 to 0.04 based on the histogram."
   ]
  },
  {
   "cell_type": "markdown",
   "metadata": {},
   "source": [
    "6. Make a list containing the scores (using lemmas) of every sentence in the article, and plot a histogram with appropriate titles and axis labels of the scores.  From your histogram, what seems to be the most common range of scores (put the answer in a comment after your code)?"
   ]
  },
  {
   "cell_type": "code",
   "execution_count": null,
   "metadata": {},
   "outputs": [
    {
     "data": {
      "image/png": "[encoded data removed]",
      "text/plain": [
       "<Figure size 1000x600 with 1 Axes>"
      ]
     },
     "metadata": {},
     "output_type": "display_data"
    }
   ],
   "source": [
    "# Define the score_sentence_by_lemma method\n",
    "def score_sentence_by_lemma(sentence, interesting_lemmas):\n",
    "    # Filter tokens and get lemmas\n",
    "    filtered_lemmas = [token.lemma_.lower() for token in sentence if not token.is_punct and not token.is_stop and not token.is_space]\n",
    "    # Count how many interesting lemmas appear in the sentence\n",
    "    lemma_count = sum(1 for lemma in filtered_lemmas if lemma in interesting_lemmas)\n",
    "    # Return the score/ratio of interesting lemmas to total words in sentence\n",
    "    lemma_score = lemma_count/len(filtered_lemmas)\n",
    "    return lemma_score\n",
    "\n",
    "interesting_lemmas = [lemma for lemma, x in lem_frequency]\n",
    "\n",
    "# Create an empty list to add scores of each sentence\n",
    "lemma_scores = []\n",
    "\n",
    "# Loop through each sentence in the article and calculate it's score then append\n",
    "for sentence in doc.sents:\n",
    "    lemma_score = score_sentence_by_lemma(sentence, interesting_lemmas)\n",
    "    lemma_scores.append(lemma_score)\n",
    "\n",
    "# Plot the histogram of token scores\n",
    "plt.figure(figsize=(10, 6))\n",
    "plt.hist(lemma_scores, bins=20, edgecolor='black', color='green', alpha =0.7)\n",
    "\n",
    "# Add titles and labels to the plot and add grid lines\n",
    "plt.title('Distribution of Interesting Lemma Scores', fontsize=25)\n",
    "plt.xlabel('Lemma Score', fontsize=14)\n",
    "plt.ylabel('Frequency', fontsize=14)\n",
    "plt.grid(axis='y', alpha = 0.9) \n",
    "\n",
    "# Show the plot\n",
    "plt.show()\n",
    "\n",
    "# The most common range of lemma scores is around 0.00 to 0.02 based on the histogram."
   ]
  },
  {
   "cell_type": "markdown",
   "metadata": {},
   "source": [
    "7. Using the histograms from questions 5 and 6, decide a \"cutoff\" score for tokens and lemmas such that fewer than half the sentences would have a score greater than the cutoff score.  Record the scores in this Markdown cell\n",
    "\n",
    "* Cutoff Score (tokens): \n",
    "* Cutoff Score (lemmas):\n",
    "\n",
    "Feel free to change these scores as you generate your summaries.  Ideally, we're shooting for at least 6 sentences for our summary, but don't want more than 10 (these numbers are rough estimates; they depend on the length of your article)."
   ]
  },
  {
   "cell_type": "markdown",
   "metadata": {},
   "source": [
    "8. Create a summary of the article by going through every sentence in the article and adding it to an (initially) empty list if its score (based on tokens) is greater than the cutoff score you identified in question 8.  If your loop variable is named `sent`, you may find it easier to add `sent.text.strip()` to your list of sentences.  Print the summary (I would cleanly generate the summary text by `join`ing the strings in your list together with a space (`' '.join(sentence_list)`)."
   ]
  },
  {
   "cell_type": "code",
   "execution_count": null,
   "metadata": {},
   "outputs": [],
   "source": []
  },
  {
   "cell_type": "markdown",
   "metadata": {},
   "source": [
    "9. Print the polarity score of your summary you generated with the token scores (with an appropriate label). Additionally, print the number of sentences in the summarized article."
   ]
  },
  {
   "cell_type": "code",
   "execution_count": null,
   "metadata": {},
   "outputs": [],
   "source": []
  },
  {
   "cell_type": "markdown",
   "metadata": {},
   "source": [
    "10. Create a summary of the article by going through every sentence in the article and adding it to an (initially) empty list if its score (based on lemmas) is greater than the cutoff score you identified in question 8.  If your loop variable is named `sent`, you may find it easier to add `sent.text.strip()` to your list of sentences.  Print the summary (I would cleanly generate the summary text by `join`ing the strings in your list together with a space (`' '.join(sentence_list)`)."
   ]
  },
  {
   "cell_type": "code",
   "execution_count": null,
   "metadata": {},
   "outputs": [],
   "source": []
  },
  {
   "cell_type": "markdown",
   "metadata": {},
   "source": [
    "11. Print the polarity score of your summary you generated with the lemma scores (with an appropriate label). Additionally, print the number of sentences in the summarized article."
   ]
  },
  {
   "cell_type": "code",
   "execution_count": null,
   "metadata": {},
   "outputs": [],
   "source": []
  },
  {
   "cell_type": "markdown",
   "metadata": {},
   "source": [
    "12.  Compare your polarity scores of your summaries to the polarity scores of the initial article.  Is there a difference?  Why do you think that may or may not be?.  Answer in this Markdown cell.  "
   ]
  },
  {
   "cell_type": "markdown",
   "metadata": {},
   "source": [
    "13. Based on your reading of the original article, which summary do you think is better (if there's a difference).  Why do you think this might be?"
   ]
  }
 ],
 "metadata": {
  "kernelspec": {
   "display_name": ".venv",
   "language": "python",
   "name": "python3"
  },
  "language_info": {
   "codemirror_mode": {
    "name": "ipython",
    "version": 3
   },
   "file_extension": ".py",
   "mimetype": "text/x-python",
   "name": "python",
   "nbconvert_exporter": "python",
   "pygments_lexer": "ipython3",
   "version": "3.12.2"
  }
 },
 "nbformat": 4,
 "nbformat_minor": 4
}
